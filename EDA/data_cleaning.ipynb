{
 "cells": [
  {
   "cell_type": "code",
   "execution_count": 30,
   "metadata": {},
   "outputs": [],
   "source": [
    "import pandas as pd\n",
    "import numpy as np"
   ]
  },
  {
   "cell_type": "code",
   "execution_count": 31,
   "metadata": {},
   "outputs": [],
   "source": [
    "# Load datasets\n",
    "account = pd.read_csv('account.csv')\n",
    "card = pd.read_csv('card.csv')\n",
    "client = pd.read_csv('client.csv')\n",
    "disp = pd.read_csv('disp.csv')\n",
    "district = pd.read_csv('district.csv')\n",
    "loan = pd.read_csv('loan.csv')\n",
    "order = pd.read_csv('order.csv')\n",
    "trans = pd.read_csv('trans.csv')"
   ]
  },
  {
   "cell_type": "code",
   "execution_count": 32,
   "metadata": {},
   "outputs": [],
   "source": [
    "# Handle missing values (fill with 0)\n",
    "account.fillna(0, inplace=True)\n",
    "card.fillna(0, inplace=True)\n",
    "client.fillna(0, inplace=True)\n",
    "disp.fillna(0, inplace=True)\n",
    "district.fillna(0, inplace=True)\n",
    "loan.fillna(0, inplace=True)\n",
    "order.fillna(0, inplace=True)\n",
    "trans.fillna(0, inplace=True)"
   ]
  },
  {
   "cell_type": "code",
   "execution_count": 33,
   "metadata": {},
   "outputs": [],
   "source": [
    "# Remove duplicates\n",
    "for df in [account, card, client, disp, district, loan, order, trans]:\n",
    "    df.drop_duplicates(inplace=True)"
   ]
  },
  {
   "cell_type": "code",
   "execution_count": 35,
   "metadata": {},
   "outputs": [
    {
     "name": "stderr",
     "output_type": "stream",
     "text": [
      "/var/folders/ld/v5xnd7_137d4rrc4xcn9v7vr0000gn/T/ipykernel_80071/1527766492.py:4: DtypeWarning: Columns (8) have mixed types. Specify dtype option on import or set low_memory=False.\n",
      "  trans = pd.read_csv('trans.csv', delimiter=';')\n"
     ]
    },
    {
     "name": "stdout",
     "output_type": "stream",
     "text": [
      "<class 'pandas.core.frame.DataFrame'>\n",
      "RangeIndex: 1056320 entries, 0 to 1056319\n",
      "Data columns (total 10 columns):\n",
      " #   Column      Non-Null Count    Dtype  \n",
      "---  ------      --------------    -----  \n",
      " 0   trans_id    1056320 non-null  int64  \n",
      " 1   account_id  1056320 non-null  int64  \n",
      " 2   date        1056320 non-null  int64  \n",
      " 3   type        1056320 non-null  object \n",
      " 4   operation   1056320 non-null  object \n",
      " 5   amount      1056320 non-null  float64\n",
      " 6   balance     1056320 non-null  float64\n",
      " 7   k_symbol    1056320 non-null  object \n",
      " 8   bank        1056320 non-null  object \n",
      " 9   account     1056320 non-null  float64\n",
      "dtypes: float64(3), int64(3), object(4)\n",
      "memory usage: 80.6+ MB\n",
      "None\n",
      "   trans_id  account_id    date    type operation  amount  balance k_symbol  \\\n",
      "0    695247        2378  930101  PRIJEM     VKLAD   700.0    700.0        0   \n",
      "1    171812         576  930101  PRIJEM     VKLAD   900.0    900.0        0   \n",
      "2    207264         704  930101  PRIJEM     VKLAD  1000.0   1000.0        0   \n",
      "3   1117247        3818  930101  PRIJEM     VKLAD   600.0    600.0        0   \n",
      "4    579373        1972  930102  PRIJEM     VKLAD   400.0    400.0        0   \n",
      "\n",
      "  bank  account  \n",
      "0    0      0.0  \n",
      "1    0      0.0  \n",
      "2    0      0.0  \n",
      "3    0      0.0  \n",
      "4    0      0.0  \n"
     ]
    }
   ],
   "source": [
    "import pandas as pd\n",
    "\n",
    "# Load the trans.csv file with the correct delimiter\n",
    "trans = pd.read_csv('trans.csv', delimiter=';')\n",
    "\n",
    "# Handle missing values (if any)\n",
    "trans.fillna(0, inplace=True)\n",
    "\n",
    "# Check for duplicates and remove them\n",
    "trans.drop_duplicates(inplace=True)\n",
    "\n",
    "# Ensure correct data types for the 'amount' column\n",
    "trans['amount'] = trans['amount'].astype(float)\n",
    "\n",
    "# Verify changes\n",
    "print(trans.info())\n",
    "print(trans.head())"
   ]
  },
  {
   "cell_type": "code",
   "execution_count": 36,
   "metadata": {},
   "outputs": [
    {
     "name": "stdout",
     "output_type": "stream",
     "text": [
      "Missing values in 'k_symbol' and 'bank':\n",
      "k_symbol    481881\n",
      "bank        782812\n",
      "dtype: int64\n",
      "Unique values in 'bank' column:\n",
      "[nan 'YZ' 'IJ' 'ST' 'UV' 'MN' 'OP' 'AB' 'CD' 'WX' 'GH' 'EF' 'QR' 'KL']\n",
      "Data Cleaning Completed!\n"
     ]
    }
   ],
   "source": [
    "import pandas as pd\n",
    "\n",
    "# Load the dataset with explicit data types to avoid mixed type warnings\n",
    "trans = pd.read_csv('trans.csv', delimiter=';', dtype={'bank': 'str'}, low_memory=False)\n",
    "client = pd.read_csv('client.csv', delimiter=';')\n",
    "loan = pd.read_csv('loan.csv', delimiter=';')\n",
    "\n",
    "# Convert 'date' column in trans to datetime format\n",
    "trans['date'] = pd.to_datetime(trans['date'], format='%y%m%d')\n",
    "\n",
    "# Check for missing values in important columns\n",
    "print(\"Missing values in 'k_symbol' and 'bank':\")\n",
    "print(trans[['k_symbol', 'bank']].isnull().sum())\n",
    "\n",
    "# Inspect unique values in the 'bank' column to check for inconsistencies\n",
    "print(\"Unique values in 'bank' column:\")\n",
    "print(trans['bank'].unique())\n",
    "\n",
    "# Save cleaned data to CSV (optional, if you want to save progress)\n",
    "trans.to_csv('cleaned_trans.csv', index=False)\n",
    "client.to_csv('cleaned_client.csv', index=False)\n",
    "loan.to_csv('cleaned_loan.csv', index=False)\n",
    "\n",
    "print(\"Data Cleaning Completed!\")"
   ]
  }
 ],
 "metadata": {
  "kernelspec": {
   "display_name": "Python 3",
   "language": "python",
   "name": "python3"
  },
  "language_info": {
   "codemirror_mode": {
    "name": "ipython",
    "version": 3
   },
   "file_extension": ".py",
   "mimetype": "text/x-python",
   "name": "python",
   "nbconvert_exporter": "python",
   "pygments_lexer": "ipython3",
   "version": "3.11.5"
  }
 },
 "nbformat": 4,
 "nbformat_minor": 2
}
