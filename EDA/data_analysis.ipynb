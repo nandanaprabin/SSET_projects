{
 "cells": [
  {
   "cell_type": "code",
   "execution_count": null,
   "metadata": {},
   "outputs": [
    {
     "ename": "",
     "evalue": "",
     "output_type": "error",
     "traceback": [
      "\u001b[1;31mRunning cells with 'Python 3.12.7' requires the ipykernel package.\n",
      "\u001b[1;31mRun the following command to install 'ipykernel' into the Python environment. \n",
      "\u001b[1;31mCommand: '/usr/local/bin/python3.12 -m pip install ipykernel -U --user --force-reinstall'"
     ]
    }
   ],
   "source": [
    "import pandas as pd\n",
    "\n",
    "# Load the cleaned datasets\n",
    "trans = pd.read_csv('cleaned_trans.csv')\n",
    "client = pd.read_csv('cleaned_client.csv')\n",
    "loan = pd.read_csv('cleaned_loan.csv')"
   ]
  },
  {
   "cell_type": "code",
   "execution_count": 14,
   "metadata": {},
   "outputs": [],
   "source": [
    "merged_data = pd.merge(trans, client, left_on='account_id', right_on='client_id', how='left')\n",
    "merged_data = pd.merge(merged_data, loan, on='account_id', how='left')"
   ]
  },
  {
   "cell_type": "code",
   "execution_count": 15,
   "metadata": {},
   "outputs": [
    {
     "name": "stdout",
     "output_type": "stream",
     "text": [
      "Total Transactions per Account:\n",
      "   account_id     amount\n",
      "0           1   375174.5\n",
      "1           2  3151479.3\n",
      "2           3   295021.8\n",
      "3           4   350971.4\n",
      "4           5   166881.4\n"
     ]
    }
   ],
   "source": [
    "# Total transaction amounts by account\n",
    "total_transactions = trans.groupby('account_id')['amount'].sum().reset_index()\n",
    "print(\"Total Transactions per Account:\")\n",
    "print(total_transactions.head())"
   ]
  },
  {
   "cell_type": "code",
   "execution_count": 16,
   "metadata": {},
   "outputs": [
    {
     "name": "stdout",
     "output_type": "stream",
     "text": [
      "Transaction Counts per Account:\n",
      "   account_id  transaction_count\n",
      "0        8261                675\n",
      "1        3834                665\n",
      "2          96                661\n",
      "3        2932                655\n",
      "4        9307                649\n"
     ]
    }
   ],
   "source": [
    "# Number of transactions per account\n",
    "transaction_counts = trans['account_id'].value_counts().reset_index()\n",
    "transaction_counts.columns = ['account_id', 'transaction_count']\n",
    "print(\"Transaction Counts per Account:\")\n",
    "print(transaction_counts.head())"
   ]
  },
  {
   "cell_type": "code",
   "execution_count": 18,
   "metadata": {},
   "outputs": [
    {
     "name": "stdout",
     "output_type": "stream",
     "text": [
      "Average Loan Amount: 151410.1759530792\n"
     ]
    }
   ],
   "source": [
    "# Analyze Loan Data\n",
    "# Average loan amount\n",
    "average_loan_amount = loan['amount'].mean()\n",
    "print(f\"Average Loan Amount: {average_loan_amount}\")"
   ]
  },
  {
   "cell_type": "code",
   "execution_count": 20,
   "metadata": {},
   "outputs": [
    {
     "name": "stdout",
     "output_type": "stream",
     "text": [
      "Default Rate: 0.0\n"
     ]
    }
   ],
   "source": [
    "# Default rate\n",
    "default_rate = loan[loan['status'] == 'default'].shape[0] / loan.shape[0]\n",
    "print(f\"Default Rate: {default_rate}\")"
   ]
  },
  {
   "cell_type": "code",
   "execution_count": 21,
   "metadata": {},
   "outputs": [
    {
     "name": "stdout",
     "output_type": "stream",
     "text": [
      "Data Analysis Completed!\n"
     ]
    }
   ],
   "source": [
    "# Save analysis results to CSV (optional)\n",
    "total_transactions.to_csv('total_transactions.csv', index=False)\n",
    "transaction_counts.to_csv('transaction_counts.csv', index=False)\n",
    "\n",
    "print(\"Data Analysis Completed!\")"
   ]
  }
 ],
 "metadata": {
  "kernelspec": {
   "display_name": "Python 3",
   "language": "python",
   "name": "python3"
  },
  "language_info": {
   "codemirror_mode": {
    "name": "ipython",
    "version": 3
   },
   "file_extension": ".py",
   "mimetype": "text/x-python",
   "name": "python",
   "nbconvert_exporter": "python",
   "pygments_lexer": "ipython3",
   "version": "3.12.7"
  }
 },
 "nbformat": 4,
 "nbformat_minor": 2
}
